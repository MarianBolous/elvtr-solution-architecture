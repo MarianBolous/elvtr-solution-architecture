{
 "cells": [
  {
   "cell_type": "markdown",
   "id": "d1a887ec",
   "metadata": {},
   "source": [
    "## Import the libraries"
   ]
  },
  {
   "cell_type": "code",
   "execution_count": 1,
   "id": "522d1800",
   "metadata": {
    "tags": []
   },
   "outputs": [],
   "source": [
    "import numpy as np\n",
    "import pandas as pd\n",
    "import matplotlib.pyplot as plt"
   ]
  },
  {
   "cell_type": "markdown",
   "id": "e5d3caa8",
   "metadata": {},
   "source": [
    "## Import the dataset"
   ]
  },
  {
   "cell_type": "code",
   "execution_count": 2,
   "id": "72e324a7-534b-4379-b863-31d2b065d68b",
   "metadata": {
    "tags": []
   },
   "outputs": [],
   "source": [
    "import os\n",
    "import boto3\n",
    "import re\n",
    "\n",
    "region = boto3.Session().region_name\n",
    "s3 = boto3.client(\"s3\")\n",
    "\n",
    "# S3 bucket for training data.\n",
    "# Feel free to specify a different bucket and prefix.\n",
    "data_bucket = f\"sagemaker-example-files-prod-{region}\"\n",
    "data_prefix = \"datasets/tabular/uci_abalone\"\n"
   ]
  },
  {
   "cell_type": "code",
   "execution_count": 3,
   "id": "24d7f5ce-18e8-4b3d-ae7d-09575cd7bab5",
   "metadata": {
    "tags": []
   },
   "outputs": [],
   "source": [
    "LOCAL_PATH = \"data\"\n",
    "FILE_TRAIN = \"abalone_dataset1_train.csv\"\n",
    "FILE_TEST = \"abalone_dataset1_test.csv\"\n",
    "FILE_VALIDATION = \"abalone_dataset1_validation.csv\"\n",
    "\n",
    "# downloading the train, test, and validation files from data_bucket\n",
    "s3.download_file(data_bucket, f\"{data_prefix}/train_csv/{FILE_TRAIN}\", f\"{LOCAL_PATH}/{FILE_TRAIN}\")\n",
    "s3.download_file(data_bucket, f\"{data_prefix}/test_csv/{FILE_TEST}\", f\"{LOCAL_PATH}/{FILE_TEST}\")\n",
    "s3.download_file(data_bucket, f\"{data_prefix}/validation_csv/{FILE_VALIDATION}\", f\"{LOCAL_PATH}/{FILE_VALIDATION}\")"
   ]
  },
  {
   "cell_type": "code",
   "execution_count": 4,
   "id": "115141be-3ace-4fb6-ac9b-48938ccfab2a",
   "metadata": {
    "tags": []
   },
   "outputs": [
    {
     "name": "stdout",
     "output_type": "stream",
     "text": [
      "   age  sex  Length  Diameter  Height  Whole.weight  Shucked.weight  \\\n",
      "0    8    2   0.615     0.480   0.160        1.2525          0.5850   \n",
      "1   16    2   0.630     0.500   0.155        1.0050          0.3670   \n",
      "2    6    3   0.295     0.220   0.070        0.1260          0.0515   \n",
      "3    6    3   0.315     0.235   0.075        0.1485          0.0585   \n",
      "4   10    2   0.695     0.550   0.185        1.6790          0.8050   \n",
      "\n",
      "   Viscera.weight  Shell.weight  \n",
      "0          0.2595        0.3300  \n",
      "1          0.1990        0.3600  \n",
      "2          0.0275        0.0350  \n",
      "3          0.0375        0.0425  \n",
      "4          0.4015        0.3965  \n"
     ]
    }
   ],
   "source": [
    "import pandas as pd  # Read in csv and store in a pandas dataframe\n",
    "\n",
    "df = pd.read_csv(\n",
    "    FILE_TRAIN,\n",
    "    sep=\",\",\n",
    "    encoding=\"latin1\",\n",
    "    names=[\n",
    "        \"age\",\n",
    "        \"sex\",\n",
    "        \"Length\",\n",
    "        \"Diameter\",\n",
    "        \"Height\",\n",
    "        \"Whole.weight\",\n",
    "        \"Shucked.weight\",\n",
    "        \"Viscera.weight\",\n",
    "        \"Shell.weight\",\n",
    "    ],\n",
    ")\n",
    "print(df.head(5))"
   ]
  },
  {
   "cell_type": "code",
   "execution_count": 5,
   "id": "f3beb004-fc00-443b-8374-bd9b76581801",
   "metadata": {
    "tags": []
   },
   "outputs": [
    {
     "data": {
      "text/html": [
       "<div>\n",
       "<style scoped>\n",
       "    .dataframe tbody tr th:only-of-type {\n",
       "        vertical-align: middle;\n",
       "    }\n",
       "\n",
       "    .dataframe tbody tr th {\n",
       "        vertical-align: top;\n",
       "    }\n",
       "\n",
       "    .dataframe thead th {\n",
       "        text-align: right;\n",
       "    }\n",
       "</style>\n",
       "<table border=\"1\" class=\"dataframe\">\n",
       "  <thead>\n",
       "    <tr style=\"text-align: right;\">\n",
       "      <th></th>\n",
       "      <th>sex</th>\n",
       "      <th>Length</th>\n",
       "      <th>Diameter</th>\n",
       "      <th>Height</th>\n",
       "      <th>Whole.weight</th>\n",
       "      <th>Shucked.weight</th>\n",
       "      <th>Viscera.weight</th>\n",
       "      <th>Shell.weight</th>\n",
       "    </tr>\n",
       "  </thead>\n",
       "  <tbody>\n",
       "    <tr>\n",
       "      <th>0</th>\n",
       "      <td>2</td>\n",
       "      <td>0.615</td>\n",
       "      <td>0.480</td>\n",
       "      <td>0.160</td>\n",
       "      <td>1.2525</td>\n",
       "      <td>0.5850</td>\n",
       "      <td>0.2595</td>\n",
       "      <td>0.3300</td>\n",
       "    </tr>\n",
       "    <tr>\n",
       "      <th>1</th>\n",
       "      <td>2</td>\n",
       "      <td>0.630</td>\n",
       "      <td>0.500</td>\n",
       "      <td>0.155</td>\n",
       "      <td>1.0050</td>\n",
       "      <td>0.3670</td>\n",
       "      <td>0.1990</td>\n",
       "      <td>0.3600</td>\n",
       "    </tr>\n",
       "    <tr>\n",
       "      <th>2</th>\n",
       "      <td>3</td>\n",
       "      <td>0.295</td>\n",
       "      <td>0.220</td>\n",
       "      <td>0.070</td>\n",
       "      <td>0.1260</td>\n",
       "      <td>0.0515</td>\n",
       "      <td>0.0275</td>\n",
       "      <td>0.0350</td>\n",
       "    </tr>\n",
       "    <tr>\n",
       "      <th>3</th>\n",
       "      <td>3</td>\n",
       "      <td>0.315</td>\n",
       "      <td>0.235</td>\n",
       "      <td>0.075</td>\n",
       "      <td>0.1485</td>\n",
       "      <td>0.0585</td>\n",
       "      <td>0.0375</td>\n",
       "      <td>0.0425</td>\n",
       "    </tr>\n",
       "    <tr>\n",
       "      <th>4</th>\n",
       "      <td>2</td>\n",
       "      <td>0.695</td>\n",
       "      <td>0.550</td>\n",
       "      <td>0.185</td>\n",
       "      <td>1.6790</td>\n",
       "      <td>0.8050</td>\n",
       "      <td>0.4015</td>\n",
       "      <td>0.3965</td>\n",
       "    </tr>\n",
       "  </tbody>\n",
       "</table>\n",
       "</div>"
      ],
      "text/plain": [
       "   sex  Length  Diameter  Height  Whole.weight  Shucked.weight  \\\n",
       "0    2   0.615     0.480   0.160        1.2525          0.5850   \n",
       "1    2   0.630     0.500   0.155        1.0050          0.3670   \n",
       "2    3   0.295     0.220   0.070        0.1260          0.0515   \n",
       "3    3   0.315     0.235   0.075        0.1485          0.0585   \n",
       "4    2   0.695     0.550   0.185        1.6790          0.8050   \n",
       "\n",
       "   Viscera.weight  Shell.weight  \n",
       "0          0.2595        0.3300  \n",
       "1          0.1990        0.3600  \n",
       "2          0.0275        0.0350  \n",
       "3          0.0375        0.0425  \n",
       "4          0.4015        0.3965  "
      ]
     },
     "execution_count": 5,
     "metadata": {},
     "output_type": "execute_result"
    }
   ],
   "source": [
    "features = df.iloc[:,1:]\n",
    "features.head()"
   ]
  },
  {
   "cell_type": "code",
   "execution_count": 7,
   "id": "840d6231-0da2-4d00-b6d7-c06d63e45fa3",
   "metadata": {
    "tags": []
   },
   "outputs": [
    {
     "data": {
      "text/plain": [
       "0     8\n",
       "1    16\n",
       "2     6\n",
       "3     6\n",
       "4    10\n",
       "Name: age, dtype: int64"
      ]
     },
     "execution_count": 7,
     "metadata": {},
     "output_type": "execute_result"
    }
   ],
   "source": [
    "features = df.iloc[:,0]\n",
    "features.head()"
   ]
  },
  {
   "cell_type": "code",
   "execution_count": 6,
   "id": "8999d6be",
   "metadata": {
    "tags": []
   },
   "outputs": [
    {
     "ename": "NameError",
     "evalue": "name 'labels' is not defined",
     "output_type": "error",
     "traceback": [
      "\u001b[0;31m---------------------------------------------------------------------------\u001b[0m",
      "\u001b[0;31mNameError\u001b[0m                                 Traceback (most recent call last)",
      "Cell \u001b[0;32mIn[6], line 2\u001b[0m\n\u001b[1;32m      1\u001b[0m X \u001b[38;5;241m=\u001b[39m features\u001b[38;5;241m.\u001b[39mvalues\n\u001b[0;32m----> 2\u001b[0m y \u001b[38;5;241m=\u001b[39m \u001b[43mlabels\u001b[49m\u001b[38;5;241m.\u001b[39mvalues\n",
      "\u001b[0;31mNameError\u001b[0m: name 'labels' is not defined"
     ]
    }
   ],
   "source": [
    "X = features.values\n",
    "y = labels.values"
   ]
  },
  {
   "cell_type": "markdown",
   "id": "b600b0f9",
   "metadata": {},
   "source": [
    "## Splitting the dataset into the Training and Test set "
   ]
  },
  {
   "cell_type": "code",
   "execution_count": null,
   "id": "76262799",
   "metadata": {
    "tags": []
   },
   "outputs": [],
   "source": [
    "from sklearn.model_selection import train_test_split\n",
    "X_train, X_test, y_train, y_test = train_test_split(X,y,test_size=0.10,random_state=42)"
   ]
  },
  {
   "cell_type": "markdown",
   "id": "a63d4a71",
   "metadata": {},
   "source": [
    "## Training the Random Forest Regression model on the Training set"
   ]
  },
  {
   "cell_type": "code",
   "execution_count": null,
   "id": "7538ed72",
   "metadata": {
    "tags": []
   },
   "outputs": [],
   "source": [
    "from sklearn.ensemble import RandomForestRegressor\n",
    "regressor = RandomForestRegressor(n_estimators=30)\n",
    "regressor.fit(X_train,y_train)"
   ]
  },
  {
   "cell_type": "markdown",
   "id": "63bd1a36",
   "metadata": {},
   "source": [
    "## Predicting the Test set results"
   ]
  },
  {
   "cell_type": "code",
   "execution_count": null,
   "id": "1c04aefc",
   "metadata": {
    "tags": []
   },
   "outputs": [],
   "source": [
    "y_pred = regressor.predict(X_test)\n",
    "np.set_printoptions(precision=2)\n",
    "print(y_pred)"
   ]
  },
  {
   "cell_type": "markdown",
   "id": "1b9bf5eb",
   "metadata": {},
   "source": [
    "## Evaluating the Model Performance"
   ]
  },
  {
   "cell_type": "code",
   "execution_count": null,
   "id": "d3e9df7b",
   "metadata": {
    "tags": []
   },
   "outputs": [],
   "source": [
    "from sklearn.metrics import explained_variance_score, r2_score, root_mean_squared_error\n",
    "print(f\"explained variance: {explained_variance_score(y_pred,y_test):.4}\")\n",
    "print(f\"r2 score: {r2_score(y_pred,y_test):.4}\")\n",
    "print(f\"root mean squared error: {root_mean_squared_error(y_pred,y_test):.4}\")"
   ]
  },
  {
   "cell_type": "code",
   "execution_count": null,
   "id": "655f5c9f-2eb0-4aae-b3f9-91a8be1b4656",
   "metadata": {
    "tags": []
   },
   "outputs": [],
   "source": [
    "y_test"
   ]
  }
 ],
 "metadata": {
  "kernelspec": {
   "display_name": "conda_python3",
   "language": "python",
   "name": "conda_python3"
  },
  "language_info": {
   "codemirror_mode": {
    "name": "ipython",
    "version": 3
   },
   "file_extension": ".py",
   "mimetype": "text/x-python",
   "name": "python",
   "nbconvert_exporter": "python",
   "pygments_lexer": "ipython3",
   "version": "3.10.14"
  }
 },
 "nbformat": 4,
 "nbformat_minor": 5
}
